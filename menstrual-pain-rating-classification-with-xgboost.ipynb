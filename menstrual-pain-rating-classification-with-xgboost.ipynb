{
 "cells": [
  {
   "cell_type": "code",
   "execution_count": 1,
   "id": "b7a9ebb3",
   "metadata": {
    "_cell_guid": "b1076dfc-b9ad-4769-8c92-a6c4dae69d19",
    "_uuid": "8f2839f25d086af736a60e9eeb907d3b93b6e0e5",
    "execution": {
     "iopub.execute_input": "2024-03-01T13:07:47.722240Z",
     "iopub.status.busy": "2024-03-01T13:07:47.721059Z",
     "iopub.status.idle": "2024-03-01T13:07:48.650214Z",
     "shell.execute_reply": "2024-03-01T13:07:48.647916Z"
    },
    "papermill": {
     "duration": 0.939161,
     "end_time": "2024-03-01T13:07:48.653989",
     "exception": false,
     "start_time": "2024-03-01T13:07:47.714828",
     "status": "completed"
    },
    "tags": []
   },
   "outputs": [
    {
     "name": "stdout",
     "output_type": "stream",
     "text": [
      "/kaggle/input/menstrual-health-and-pcod-risk-detection-dataset/period - Copy.csv\n"
     ]
    }
   ],
   "source": [
    "# This Python 3 environment comes with many helpful analytics libraries installed\n",
    "# It is defined by the kaggle/python Docker image: https://github.com/kaggle/docker-python\n",
    "# For example, here's several helpful packages to load\n",
    "\n",
    "import numpy as np # linear algebra\n",
    "import pandas as pd # data processing, CSV file I/O (e.g. pd.read_csv)\n",
    "\n",
    "# Input data files are available in the read-only \"../input/\" directory\n",
    "# For example, running this (by clicking run or pressing Shift+Enter) will list all files under the input directory\n",
    "\n",
    "import os\n",
    "for dirname, _, filenames in os.walk('/kaggle/input'):\n",
    "    for filename in filenames:\n",
    "        print(os.path.join(dirname, filename))\n",
    "\n",
    "# You can write up to 20GB to the current directory (/kaggle/working/) that gets preserved as output when you create a version using \"Save & Run All\" \n",
    "# You can also write temporary files to /kaggle/temp/, but they won't be saved outside of the current session"
   ]
  },
  {
   "cell_type": "code",
   "execution_count": 2,
   "id": "81aecdbe",
   "metadata": {
    "execution": {
     "iopub.execute_input": "2024-03-01T13:07:48.665749Z",
     "iopub.status.busy": "2024-03-01T13:07:48.665029Z",
     "iopub.status.idle": "2024-03-01T13:07:50.195058Z",
     "shell.execute_reply": "2024-03-01T13:07:50.193786Z"
    },
    "papermill": {
     "duration": 1.538659,
     "end_time": "2024-03-01T13:07:50.198194",
     "exception": false,
     "start_time": "2024-03-01T13:07:48.659535",
     "status": "completed"
    },
    "tags": []
   },
   "outputs": [],
   "source": [
    "import xgboost as xgb\n",
    "from sklearn.model_selection import train_test_split\n",
    "from sklearn.metrics import accuracy_score, classification_report"
   ]
  },
  {
   "cell_type": "code",
   "execution_count": 3,
   "id": "ecd630ed",
   "metadata": {
    "execution": {
     "iopub.execute_input": "2024-03-01T13:07:50.209060Z",
     "iopub.status.busy": "2024-03-01T13:07:50.208631Z",
     "iopub.status.idle": "2024-03-01T13:07:50.250963Z",
     "shell.execute_reply": "2024-03-01T13:07:50.249777Z"
    },
    "papermill": {
     "duration": 0.052456,
     "end_time": "2024-03-01T13:07:50.255062",
     "exception": false,
     "start_time": "2024-03-01T13:07:50.202606",
     "status": "completed"
    },
    "tags": []
   },
   "outputs": [
    {
     "data": {
      "text/html": [
       "<div>\n",
       "<style scoped>\n",
       "    .dataframe tbody tr th:only-of-type {\n",
       "        vertical-align: middle;\n",
       "    }\n",
       "\n",
       "    .dataframe tbody tr th {\n",
       "        vertical-align: top;\n",
       "    }\n",
       "\n",
       "    .dataframe thead th {\n",
       "        text-align: right;\n",
       "    }\n",
       "</style>\n",
       "<table border=\"1\" class=\"dataframe\">\n",
       "  <thead>\n",
       "    <tr style=\"text-align: right;\">\n",
       "      <th></th>\n",
       "      <th>number_of_peak</th>\n",
       "      <th>Age</th>\n",
       "      <th>Length_of_cycle</th>\n",
       "      <th>Estimated_day_of_ovulution</th>\n",
       "      <th>Length_of_Leutal_Phase</th>\n",
       "      <th>Length_of_menses</th>\n",
       "      <th>Unusual_Bleeding</th>\n",
       "      <th>Height</th>\n",
       "      <th>Weight</th>\n",
       "      <th>Income</th>\n",
       "      <th>BMI</th>\n",
       "      <th>Mean_of_length_of_cycle</th>\n",
       "      <th>Menses_score</th>\n",
       "    </tr>\n",
       "  </thead>\n",
       "  <tbody>\n",
       "    <tr>\n",
       "      <th>0</th>\n",
       "      <td>3</td>\n",
       "      <td>18</td>\n",
       "      <td>27</td>\n",
       "      <td>14</td>\n",
       "      <td>9</td>\n",
       "      <td>5</td>\n",
       "      <td>no</td>\n",
       "      <td>5 6</td>\n",
       "      <td>76.0</td>\n",
       "      <td>0</td>\n",
       "      <td>26.3</td>\n",
       "      <td>30</td>\n",
       "      <td>4.0</td>\n",
       "    </tr>\n",
       "    <tr>\n",
       "      <th>1</th>\n",
       "      <td>4</td>\n",
       "      <td>18</td>\n",
       "      <td>25</td>\n",
       "      <td>17</td>\n",
       "      <td>10</td>\n",
       "      <td>6</td>\n",
       "      <td>yes</td>\n",
       "      <td>5 6</td>\n",
       "      <td>76.0</td>\n",
       "      <td>0</td>\n",
       "      <td>26.3</td>\n",
       "      <td>30</td>\n",
       "      <td>5.0</td>\n",
       "    </tr>\n",
       "    <tr>\n",
       "      <th>2</th>\n",
       "      <td>2</td>\n",
       "      <td>19</td>\n",
       "      <td>30</td>\n",
       "      <td>17</td>\n",
       "      <td>13</td>\n",
       "      <td>4</td>\n",
       "      <td>no</td>\n",
       "      <td>5 3</td>\n",
       "      <td>56.0</td>\n",
       "      <td>0</td>\n",
       "      <td>21.9</td>\n",
       "      <td>30</td>\n",
       "      <td>2.0</td>\n",
       "    </tr>\n",
       "    <tr>\n",
       "      <th>3</th>\n",
       "      <td>3</td>\n",
       "      <td>19</td>\n",
       "      <td>28</td>\n",
       "      <td>16</td>\n",
       "      <td>14</td>\n",
       "      <td>6</td>\n",
       "      <td>no</td>\n",
       "      <td>5 1</td>\n",
       "      <td>61.0</td>\n",
       "      <td>0</td>\n",
       "      <td>25.4</td>\n",
       "      <td>30</td>\n",
       "      <td>3.0</td>\n",
       "    </tr>\n",
       "    <tr>\n",
       "      <th>4</th>\n",
       "      <td>2</td>\n",
       "      <td>19</td>\n",
       "      <td>35</td>\n",
       "      <td>18</td>\n",
       "      <td>15</td>\n",
       "      <td>5</td>\n",
       "      <td>no</td>\n",
       "      <td>5'3</td>\n",
       "      <td>55.0</td>\n",
       "      <td>0</td>\n",
       "      <td>21.5</td>\n",
       "      <td>35</td>\n",
       "      <td>5.0</td>\n",
       "    </tr>\n",
       "  </tbody>\n",
       "</table>\n",
       "</div>"
      ],
      "text/plain": [
       "   number_of_peak  Age  Length_of_cycle  Estimated_day_of_ovulution  \\\n",
       "0               3   18               27                          14   \n",
       "1               4   18               25                          17   \n",
       "2               2   19               30                          17   \n",
       "3               3   19               28                          16   \n",
       "4               2   19               35                          18   \n",
       "\n",
       "   Length_of_Leutal_Phase  Length_of_menses Unusual_Bleeding Height  Weight  \\\n",
       "0                       9                 5               no    5 6    76.0   \n",
       "1                      10                 6              yes    5 6    76.0   \n",
       "2                      13                 4               no    5 3    56.0   \n",
       "3                      14                 6               no    5 1    61.0   \n",
       "4                      15                 5               no    5'3    55.0   \n",
       "\n",
       "   Income   BMI  Mean_of_length_of_cycle  Menses_score  \n",
       "0       0  26.3                       30           4.0  \n",
       "1       0  26.3                       30           5.0  \n",
       "2       0  21.9                       30           2.0  \n",
       "3       0  25.4                       30           3.0  \n",
       "4       0  21.5                       35           5.0  "
      ]
     },
     "execution_count": 3,
     "metadata": {},
     "output_type": "execute_result"
    }
   ],
   "source": [
    "df = pd.read_csv(\"/kaggle/input/menstrual-health-and-pcod-risk-detection-dataset/period - Copy.csv\")\n",
    "df.head()"
   ]
  },
  {
   "cell_type": "code",
   "execution_count": 4,
   "id": "4c2bedc5",
   "metadata": {
    "execution": {
     "iopub.execute_input": "2024-03-01T13:07:50.265640Z",
     "iopub.status.busy": "2024-03-01T13:07:50.265163Z",
     "iopub.status.idle": "2024-03-01T13:07:50.312616Z",
     "shell.execute_reply": "2024-03-01T13:07:50.311396Z"
    },
    "papermill": {
     "duration": 0.055731,
     "end_time": "2024-03-01T13:07:50.315283",
     "exception": false,
     "start_time": "2024-03-01T13:07:50.259552",
     "status": "completed"
    },
    "tags": []
   },
   "outputs": [
    {
     "data": {
      "text/html": [
       "<div>\n",
       "<style scoped>\n",
       "    .dataframe tbody tr th:only-of-type {\n",
       "        vertical-align: middle;\n",
       "    }\n",
       "\n",
       "    .dataframe tbody tr th {\n",
       "        vertical-align: top;\n",
       "    }\n",
       "\n",
       "    .dataframe thead th {\n",
       "        text-align: right;\n",
       "    }\n",
       "</style>\n",
       "<table border=\"1\" class=\"dataframe\">\n",
       "  <thead>\n",
       "    <tr style=\"text-align: right;\">\n",
       "      <th></th>\n",
       "      <th>number_of_peak</th>\n",
       "      <th>Age</th>\n",
       "      <th>Length_of_cycle</th>\n",
       "      <th>Estimated_day_of_ovulution</th>\n",
       "      <th>Length_of_Leutal_Phase</th>\n",
       "      <th>Length_of_menses</th>\n",
       "      <th>Weight</th>\n",
       "      <th>Income</th>\n",
       "      <th>BMI</th>\n",
       "      <th>Mean_of_length_of_cycle</th>\n",
       "      <th>Menses_score</th>\n",
       "    </tr>\n",
       "  </thead>\n",
       "  <tbody>\n",
       "    <tr>\n",
       "      <th>count</th>\n",
       "      <td>162.000000</td>\n",
       "      <td>162.000000</td>\n",
       "      <td>162.000000</td>\n",
       "      <td>162.000000</td>\n",
       "      <td>162.000000</td>\n",
       "      <td>162.000000</td>\n",
       "      <td>162.000000</td>\n",
       "      <td>162.0</td>\n",
       "      <td>162.000000</td>\n",
       "      <td>162.000000</td>\n",
       "      <td>162.000000</td>\n",
       "    </tr>\n",
       "    <tr>\n",
       "      <th>mean</th>\n",
       "      <td>2.518519</td>\n",
       "      <td>19.333333</td>\n",
       "      <td>29.283951</td>\n",
       "      <td>15.135802</td>\n",
       "      <td>12.753086</td>\n",
       "      <td>5.061728</td>\n",
       "      <td>56.696296</td>\n",
       "      <td>0.0</td>\n",
       "      <td>21.738889</td>\n",
       "      <td>29.320988</td>\n",
       "      <td>3.372840</td>\n",
       "    </tr>\n",
       "    <tr>\n",
       "      <th>std</th>\n",
       "      <td>0.706863</td>\n",
       "      <td>1.453204</td>\n",
       "      <td>4.191783</td>\n",
       "      <td>2.352496</td>\n",
       "      <td>3.270538</td>\n",
       "      <td>1.025703</td>\n",
       "      <td>9.471440</td>\n",
       "      <td>0.0</td>\n",
       "      <td>2.975396</td>\n",
       "      <td>5.319196</td>\n",
       "      <td>1.183112</td>\n",
       "    </tr>\n",
       "    <tr>\n",
       "      <th>min</th>\n",
       "      <td>1.000000</td>\n",
       "      <td>14.000000</td>\n",
       "      <td>22.000000</td>\n",
       "      <td>7.000000</td>\n",
       "      <td>7.000000</td>\n",
       "      <td>1.000000</td>\n",
       "      <td>40.000000</td>\n",
       "      <td>0.0</td>\n",
       "      <td>16.200000</td>\n",
       "      <td>13.000000</td>\n",
       "      <td>1.000000</td>\n",
       "    </tr>\n",
       "    <tr>\n",
       "      <th>25%</th>\n",
       "      <td>2.000000</td>\n",
       "      <td>19.000000</td>\n",
       "      <td>27.000000</td>\n",
       "      <td>14.000000</td>\n",
       "      <td>10.000000</td>\n",
       "      <td>5.000000</td>\n",
       "      <td>51.000000</td>\n",
       "      <td>0.0</td>\n",
       "      <td>20.400000</td>\n",
       "      <td>27.000000</td>\n",
       "      <td>3.000000</td>\n",
       "    </tr>\n",
       "    <tr>\n",
       "      <th>50%</th>\n",
       "      <td>2.000000</td>\n",
       "      <td>19.000000</td>\n",
       "      <td>28.000000</td>\n",
       "      <td>15.000000</td>\n",
       "      <td>13.000000</td>\n",
       "      <td>5.000000</td>\n",
       "      <td>55.000000</td>\n",
       "      <td>0.0</td>\n",
       "      <td>21.600000</td>\n",
       "      <td>30.000000</td>\n",
       "      <td>3.000000</td>\n",
       "    </tr>\n",
       "    <tr>\n",
       "      <th>75%</th>\n",
       "      <td>3.000000</td>\n",
       "      <td>20.000000</td>\n",
       "      <td>30.000000</td>\n",
       "      <td>16.000000</td>\n",
       "      <td>14.000000</td>\n",
       "      <td>6.000000</td>\n",
       "      <td>60.000000</td>\n",
       "      <td>0.0</td>\n",
       "      <td>22.500000</td>\n",
       "      <td>30.000000</td>\n",
       "      <td>4.000000</td>\n",
       "    </tr>\n",
       "    <tr>\n",
       "      <th>max</th>\n",
       "      <td>5.000000</td>\n",
       "      <td>25.000000</td>\n",
       "      <td>40.000000</td>\n",
       "      <td>22.000000</td>\n",
       "      <td>30.000000</td>\n",
       "      <td>8.000000</td>\n",
       "      <td>85.000000</td>\n",
       "      <td>0.0</td>\n",
       "      <td>32.900000</td>\n",
       "      <td>46.000000</td>\n",
       "      <td>5.000000</td>\n",
       "    </tr>\n",
       "  </tbody>\n",
       "</table>\n",
       "</div>"
      ],
      "text/plain": [
       "       number_of_peak         Age  Length_of_cycle  \\\n",
       "count      162.000000  162.000000       162.000000   \n",
       "mean         2.518519   19.333333        29.283951   \n",
       "std          0.706863    1.453204         4.191783   \n",
       "min          1.000000   14.000000        22.000000   \n",
       "25%          2.000000   19.000000        27.000000   \n",
       "50%          2.000000   19.000000        28.000000   \n",
       "75%          3.000000   20.000000        30.000000   \n",
       "max          5.000000   25.000000        40.000000   \n",
       "\n",
       "       Estimated_day_of_ovulution  Length_of_Leutal_Phase  Length_of_menses  \\\n",
       "count                  162.000000              162.000000        162.000000   \n",
       "mean                    15.135802               12.753086          5.061728   \n",
       "std                      2.352496                3.270538          1.025703   \n",
       "min                      7.000000                7.000000          1.000000   \n",
       "25%                     14.000000               10.000000          5.000000   \n",
       "50%                     15.000000               13.000000          5.000000   \n",
       "75%                     16.000000               14.000000          6.000000   \n",
       "max                     22.000000               30.000000          8.000000   \n",
       "\n",
       "           Weight  Income         BMI  Mean_of_length_of_cycle  Menses_score  \n",
       "count  162.000000   162.0  162.000000               162.000000    162.000000  \n",
       "mean    56.696296     0.0   21.738889                29.320988      3.372840  \n",
       "std      9.471440     0.0    2.975396                 5.319196      1.183112  \n",
       "min     40.000000     0.0   16.200000                13.000000      1.000000  \n",
       "25%     51.000000     0.0   20.400000                27.000000      3.000000  \n",
       "50%     55.000000     0.0   21.600000                30.000000      3.000000  \n",
       "75%     60.000000     0.0   22.500000                30.000000      4.000000  \n",
       "max     85.000000     0.0   32.900000                46.000000      5.000000  "
      ]
     },
     "execution_count": 4,
     "metadata": {},
     "output_type": "execute_result"
    }
   ],
   "source": [
    "df.describe()"
   ]
  },
  {
   "cell_type": "code",
   "execution_count": 5,
   "id": "99333c9b",
   "metadata": {
    "execution": {
     "iopub.execute_input": "2024-03-01T13:07:50.326384Z",
     "iopub.status.busy": "2024-03-01T13:07:50.325878Z",
     "iopub.status.idle": "2024-03-01T13:07:50.334775Z",
     "shell.execute_reply": "2024-03-01T13:07:50.332955Z"
    },
    "papermill": {
     "duration": 0.017584,
     "end_time": "2024-03-01T13:07:50.337314",
     "exception": false,
     "start_time": "2024-03-01T13:07:50.319730",
     "status": "completed"
    },
    "tags": []
   },
   "outputs": [
    {
     "name": "stdout",
     "output_type": "stream",
     "text": [
      "Null counts in each column:\n",
      "number_of_peak                0\n",
      "Age                           0\n",
      "Length_of_cycle               0\n",
      "Estimated_day_of_ovulution    0\n",
      "Length_of_Leutal_Phase        0\n",
      "Length_of_menses              0\n",
      "Unusual_Bleeding              0\n",
      "Height                        0\n",
      "Weight                        0\n",
      "Income                        0\n",
      "BMI                           0\n",
      "Mean_of_length_of_cycle       0\n",
      "Menses_score                  0\n",
      "dtype: int64\n"
     ]
    }
   ],
   "source": [
    "null_counts = df.isnull().sum()\n",
    "print(\"Null counts in each column:\")\n",
    "print(null_counts)"
   ]
  },
  {
   "cell_type": "code",
   "execution_count": 6,
   "id": "8f8fa45c",
   "metadata": {
    "execution": {
     "iopub.execute_input": "2024-03-01T13:07:50.348299Z",
     "iopub.status.busy": "2024-03-01T13:07:50.347853Z",
     "iopub.status.idle": "2024-03-01T13:07:50.367520Z",
     "shell.execute_reply": "2024-03-01T13:07:50.365073Z"
    },
    "papermill": {
     "duration": 0.02834,
     "end_time": "2024-03-01T13:07:50.370162",
     "exception": false,
     "start_time": "2024-03-01T13:07:50.341822",
     "status": "completed"
    },
    "tags": []
   },
   "outputs": [
    {
     "name": "stdout",
     "output_type": "stream",
     "text": [
      "Unique values in column 'number_of_peak':\n",
      "[3 4 2 5 1]\n",
      "Unique values in column 'Age':\n",
      "[18 19 20 22 23 14 17 25]\n",
      "Unique values in column 'Length_of_cycle':\n",
      "[27 25 30 28 35 40 37 34 26 23 29 24 22 36 38 32]\n",
      "Unique values in column 'Estimated_day_of_ovulution':\n",
      "[14 17 16 18 15 10 11 13  7 20 12 22]\n",
      "Unique values in column 'Length_of_Leutal_Phase':\n",
      "[ 9 10 13 14 15 12 16 11  7  8 19 30]\n",
      "Unique values in column 'Length_of_menses':\n",
      "[5 6 4 3 1 7 8]\n",
      "Unique values in column 'Unusual_Bleeding':\n",
      "['no' 'yes' 'No' 'NO']\n",
      "Unique values in column 'Height':\n",
      "['5 6' '5 3' '5 1' \"5'3\" \"5'4\" \"5'1\" \"5'0\" '5\\'4\"' \"5'9\" \"5'5''\" \"5'6\"\n",
      " \"5'\" \"5'2.5\" \"5'2\" \"4'8\" \"4' 11\" \"5'7\" '5 4' \"5' 4\" \"5'5\" '56' \"5'8\"\n",
      " '5\\'2\"' '5.3\"' '5\\'5\"' '5\\'1\"' '5\\'3\"']\n",
      "Unique values in column 'Weight':\n",
      "[76.  56.  61.  55.  50.  60.  58.  51.  54.  43.  72.  75.  48.  45.5\n",
      " 53.  47.  82.  57.  40.  64.  55.2 65.  62.  85.  84.  52.  70. ]\n",
      "Unique values in column 'Income':\n",
      "[0]\n",
      "Unique values in column 'BMI':\n",
      "[26.3  21.9  25.4  21.5  19.   22.3  24.5  22.2  19.2  20.4  16.6  23.5\n",
      " 22.   27.5  20.   16.2  20.1  24.4  18.2  23.2  16.7  32.9  20.7  22.5\n",
      " 21.6  18.   18.1  22.8  23.   18.4  22.9  20.5  18.75 21.3  22.1  18.9\n",
      " 19.15 30.7  21.   19.5  21.4  20.9  23.6  27.3 ]\n",
      "Unique values in column 'Mean_of_length_of_cycle':\n",
      "[30 35 40 28 26 25 20 38 34 24 13 39 36 27 32 45 46 16]\n",
      "Unique values in column 'Menses_score':\n",
      "[4.  5.  2.  3.  1.  4.2 4.5]\n"
     ]
    }
   ],
   "source": [
    "for column in df.columns:\n",
    "    unique_values = df[column].unique()\n",
    "    print(f\"Unique values in column '{column}':\")\n",
    "    print(unique_values)"
   ]
  },
  {
   "cell_type": "code",
   "execution_count": 7,
   "id": "df5489f0",
   "metadata": {
    "execution": {
     "iopub.execute_input": "2024-03-01T13:07:50.381717Z",
     "iopub.status.busy": "2024-03-01T13:07:50.381260Z",
     "iopub.status.idle": "2024-03-01T13:07:50.392287Z",
     "shell.execute_reply": "2024-03-01T13:07:50.391270Z"
    },
    "papermill": {
     "duration": 0.01942,
     "end_time": "2024-03-01T13:07:50.394427",
     "exception": false,
     "start_time": "2024-03-01T13:07:50.375007",
     "status": "completed"
    },
    "tags": []
   },
   "outputs": [],
   "source": [
    "df[\"Unusual_Bleeding\"]=df[\"Unusual_Bleeding\"].map({\"NO\":0,\"No\":0,\"no\":0,\"yes\":1})\n",
    "df[\"Menses_score\"]=df[\"Menses_score\"].astype(str).map({\"1.0\":0, \"2.0\":1, \"3.0\":2, \"4.0\":3, \"4.2\":4, \"4.5\":5, \"5.0\":6})"
   ]
  },
  {
   "cell_type": "code",
   "execution_count": 8,
   "id": "097e4ae5",
   "metadata": {
    "execution": {
     "iopub.execute_input": "2024-03-01T13:07:50.406562Z",
     "iopub.status.busy": "2024-03-01T13:07:50.405616Z",
     "iopub.status.idle": "2024-03-01T13:07:50.420941Z",
     "shell.execute_reply": "2024-03-01T13:07:50.419681Z"
    },
    "papermill": {
     "duration": 0.024209,
     "end_time": "2024-03-01T13:07:50.423393",
     "exception": false,
     "start_time": "2024-03-01T13:07:50.399184",
     "status": "completed"
    },
    "tags": []
   },
   "outputs": [
    {
     "data": {
      "text/html": [
       "<div>\n",
       "<style scoped>\n",
       "    .dataframe tbody tr th:only-of-type {\n",
       "        vertical-align: middle;\n",
       "    }\n",
       "\n",
       "    .dataframe tbody tr th {\n",
       "        vertical-align: top;\n",
       "    }\n",
       "\n",
       "    .dataframe thead th {\n",
       "        text-align: right;\n",
       "    }\n",
       "</style>\n",
       "<table border=\"1\" class=\"dataframe\">\n",
       "  <thead>\n",
       "    <tr style=\"text-align: right;\">\n",
       "      <th></th>\n",
       "      <th>number_of_peak</th>\n",
       "      <th>Age</th>\n",
       "      <th>Length_of_cycle</th>\n",
       "      <th>Estimated_day_of_ovulution</th>\n",
       "      <th>Length_of_Leutal_Phase</th>\n",
       "      <th>Length_of_menses</th>\n",
       "      <th>Unusual_Bleeding</th>\n",
       "      <th>Height</th>\n",
       "      <th>Weight</th>\n",
       "      <th>Income</th>\n",
       "      <th>BMI</th>\n",
       "      <th>Mean_of_length_of_cycle</th>\n",
       "      <th>Menses_score</th>\n",
       "    </tr>\n",
       "  </thead>\n",
       "  <tbody>\n",
       "    <tr>\n",
       "      <th>0</th>\n",
       "      <td>3</td>\n",
       "      <td>18</td>\n",
       "      <td>27</td>\n",
       "      <td>14</td>\n",
       "      <td>9</td>\n",
       "      <td>5</td>\n",
       "      <td>0</td>\n",
       "      <td>5 6</td>\n",
       "      <td>76.0</td>\n",
       "      <td>0</td>\n",
       "      <td>26.3</td>\n",
       "      <td>30</td>\n",
       "      <td>3</td>\n",
       "    </tr>\n",
       "    <tr>\n",
       "      <th>1</th>\n",
       "      <td>4</td>\n",
       "      <td>18</td>\n",
       "      <td>25</td>\n",
       "      <td>17</td>\n",
       "      <td>10</td>\n",
       "      <td>6</td>\n",
       "      <td>1</td>\n",
       "      <td>5 6</td>\n",
       "      <td>76.0</td>\n",
       "      <td>0</td>\n",
       "      <td>26.3</td>\n",
       "      <td>30</td>\n",
       "      <td>6</td>\n",
       "    </tr>\n",
       "    <tr>\n",
       "      <th>2</th>\n",
       "      <td>2</td>\n",
       "      <td>19</td>\n",
       "      <td>30</td>\n",
       "      <td>17</td>\n",
       "      <td>13</td>\n",
       "      <td>4</td>\n",
       "      <td>0</td>\n",
       "      <td>5 3</td>\n",
       "      <td>56.0</td>\n",
       "      <td>0</td>\n",
       "      <td>21.9</td>\n",
       "      <td>30</td>\n",
       "      <td>1</td>\n",
       "    </tr>\n",
       "    <tr>\n",
       "      <th>3</th>\n",
       "      <td>3</td>\n",
       "      <td>19</td>\n",
       "      <td>28</td>\n",
       "      <td>16</td>\n",
       "      <td>14</td>\n",
       "      <td>6</td>\n",
       "      <td>0</td>\n",
       "      <td>5 1</td>\n",
       "      <td>61.0</td>\n",
       "      <td>0</td>\n",
       "      <td>25.4</td>\n",
       "      <td>30</td>\n",
       "      <td>2</td>\n",
       "    </tr>\n",
       "    <tr>\n",
       "      <th>4</th>\n",
       "      <td>2</td>\n",
       "      <td>19</td>\n",
       "      <td>35</td>\n",
       "      <td>18</td>\n",
       "      <td>15</td>\n",
       "      <td>5</td>\n",
       "      <td>0</td>\n",
       "      <td>5'3</td>\n",
       "      <td>55.0</td>\n",
       "      <td>0</td>\n",
       "      <td>21.5</td>\n",
       "      <td>35</td>\n",
       "      <td>6</td>\n",
       "    </tr>\n",
       "  </tbody>\n",
       "</table>\n",
       "</div>"
      ],
      "text/plain": [
       "   number_of_peak  Age  Length_of_cycle  Estimated_day_of_ovulution  \\\n",
       "0               3   18               27                          14   \n",
       "1               4   18               25                          17   \n",
       "2               2   19               30                          17   \n",
       "3               3   19               28                          16   \n",
       "4               2   19               35                          18   \n",
       "\n",
       "   Length_of_Leutal_Phase  Length_of_menses  Unusual_Bleeding Height  Weight  \\\n",
       "0                       9                 5                 0    5 6    76.0   \n",
       "1                      10                 6                 1    5 6    76.0   \n",
       "2                      13                 4                 0    5 3    56.0   \n",
       "3                      14                 6                 0    5 1    61.0   \n",
       "4                      15                 5                 0    5'3    55.0   \n",
       "\n",
       "   Income   BMI  Mean_of_length_of_cycle  Menses_score  \n",
       "0       0  26.3                       30             3  \n",
       "1       0  26.3                       30             6  \n",
       "2       0  21.9                       30             1  \n",
       "3       0  25.4                       30             2  \n",
       "4       0  21.5                       35             6  "
      ]
     },
     "execution_count": 8,
     "metadata": {},
     "output_type": "execute_result"
    }
   ],
   "source": [
    "df.head()"
   ]
  },
  {
   "cell_type": "code",
   "execution_count": 9,
   "id": "1c368b3b",
   "metadata": {
    "execution": {
     "iopub.execute_input": "2024-03-01T13:07:50.435486Z",
     "iopub.status.busy": "2024-03-01T13:07:50.435080Z",
     "iopub.status.idle": "2024-03-01T13:07:50.445244Z",
     "shell.execute_reply": "2024-03-01T13:07:50.443672Z"
    },
    "papermill": {
     "duration": 0.019164,
     "end_time": "2024-03-01T13:07:50.447591",
     "exception": false,
     "start_time": "2024-03-01T13:07:50.428427",
     "status": "completed"
    },
    "tags": []
   },
   "outputs": [],
   "source": [
    "df.drop(\"Income\", axis=1, inplace=True)\n",
    "df.drop(\"Height\", axis=1, inplace=True)"
   ]
  },
  {
   "cell_type": "code",
   "execution_count": 10,
   "id": "e68a12b7",
   "metadata": {
    "execution": {
     "iopub.execute_input": "2024-03-01T13:07:50.460551Z",
     "iopub.status.busy": "2024-03-01T13:07:50.459268Z",
     "iopub.status.idle": "2024-03-01T13:07:50.471194Z",
     "shell.execute_reply": "2024-03-01T13:07:50.469900Z"
    },
    "papermill": {
     "duration": 0.021129,
     "end_time": "2024-03-01T13:07:50.473902",
     "exception": false,
     "start_time": "2024-03-01T13:07:50.452773",
     "status": "completed"
    },
    "tags": []
   },
   "outputs": [],
   "source": [
    "x=df.drop(\"Menses_score\", axis=1)\n",
    "y=df[\"Menses_score\"]\n",
    "x_train, x_test, y_train, y_test = train_test_split(x, y, test_size=0.2, random_state=42)\n"
   ]
  },
  {
   "cell_type": "code",
   "execution_count": 11,
   "id": "4a59afdb",
   "metadata": {
    "execution": {
     "iopub.execute_input": "2024-03-01T13:07:50.486402Z",
     "iopub.status.busy": "2024-03-01T13:07:50.486035Z",
     "iopub.status.idle": "2024-03-01T13:07:50.714347Z",
     "shell.execute_reply": "2024-03-01T13:07:50.713185Z"
    },
    "papermill": {
     "duration": 0.237985,
     "end_time": "2024-03-01T13:07:50.717066",
     "exception": false,
     "start_time": "2024-03-01T13:07:50.479081",
     "status": "completed"
    },
    "tags": []
   },
   "outputs": [
    {
     "data": {
      "text/html": [
       "<style>#sk-container-id-1 {color: black;background-color: white;}#sk-container-id-1 pre{padding: 0;}#sk-container-id-1 div.sk-toggleable {background-color: white;}#sk-container-id-1 label.sk-toggleable__label {cursor: pointer;display: block;width: 100%;margin-bottom: 0;padding: 0.3em;box-sizing: border-box;text-align: center;}#sk-container-id-1 label.sk-toggleable__label-arrow:before {content: \"▸\";float: left;margin-right: 0.25em;color: #696969;}#sk-container-id-1 label.sk-toggleable__label-arrow:hover:before {color: black;}#sk-container-id-1 div.sk-estimator:hover label.sk-toggleable__label-arrow:before {color: black;}#sk-container-id-1 div.sk-toggleable__content {max-height: 0;max-width: 0;overflow: hidden;text-align: left;background-color: #f0f8ff;}#sk-container-id-1 div.sk-toggleable__content pre {margin: 0.2em;color: black;border-radius: 0.25em;background-color: #f0f8ff;}#sk-container-id-1 input.sk-toggleable__control:checked~div.sk-toggleable__content {max-height: 200px;max-width: 100%;overflow: auto;}#sk-container-id-1 input.sk-toggleable__control:checked~label.sk-toggleable__label-arrow:before {content: \"▾\";}#sk-container-id-1 div.sk-estimator input.sk-toggleable__control:checked~label.sk-toggleable__label {background-color: #d4ebff;}#sk-container-id-1 div.sk-label input.sk-toggleable__control:checked~label.sk-toggleable__label {background-color: #d4ebff;}#sk-container-id-1 input.sk-hidden--visually {border: 0;clip: rect(1px 1px 1px 1px);clip: rect(1px, 1px, 1px, 1px);height: 1px;margin: -1px;overflow: hidden;padding: 0;position: absolute;width: 1px;}#sk-container-id-1 div.sk-estimator {font-family: monospace;background-color: #f0f8ff;border: 1px dotted black;border-radius: 0.25em;box-sizing: border-box;margin-bottom: 0.5em;}#sk-container-id-1 div.sk-estimator:hover {background-color: #d4ebff;}#sk-container-id-1 div.sk-parallel-item::after {content: \"\";width: 100%;border-bottom: 1px solid gray;flex-grow: 1;}#sk-container-id-1 div.sk-label:hover label.sk-toggleable__label {background-color: #d4ebff;}#sk-container-id-1 div.sk-serial::before {content: \"\";position: absolute;border-left: 1px solid gray;box-sizing: border-box;top: 0;bottom: 0;left: 50%;z-index: 0;}#sk-container-id-1 div.sk-serial {display: flex;flex-direction: column;align-items: center;background-color: white;padding-right: 0.2em;padding-left: 0.2em;position: relative;}#sk-container-id-1 div.sk-item {position: relative;z-index: 1;}#sk-container-id-1 div.sk-parallel {display: flex;align-items: stretch;justify-content: center;background-color: white;position: relative;}#sk-container-id-1 div.sk-item::before, #sk-container-id-1 div.sk-parallel-item::before {content: \"\";position: absolute;border-left: 1px solid gray;box-sizing: border-box;top: 0;bottom: 0;left: 50%;z-index: -1;}#sk-container-id-1 div.sk-parallel-item {display: flex;flex-direction: column;z-index: 1;position: relative;background-color: white;}#sk-container-id-1 div.sk-parallel-item:first-child::after {align-self: flex-end;width: 50%;}#sk-container-id-1 div.sk-parallel-item:last-child::after {align-self: flex-start;width: 50%;}#sk-container-id-1 div.sk-parallel-item:only-child::after {width: 0;}#sk-container-id-1 div.sk-dashed-wrapped {border: 1px dashed gray;margin: 0 0.4em 0.5em 0.4em;box-sizing: border-box;padding-bottom: 0.4em;background-color: white;}#sk-container-id-1 div.sk-label label {font-family: monospace;font-weight: bold;display: inline-block;line-height: 1.2em;}#sk-container-id-1 div.sk-label-container {text-align: center;}#sk-container-id-1 div.sk-container {/* jupyter's `normalize.less` sets `[hidden] { display: none; }` but bootstrap.min.css set `[hidden] { display: none !important; }` so we also need the `!important` here to be able to override the default hidden behavior on the sphinx rendered scikit-learn.org. See: https://github.com/scikit-learn/scikit-learn/issues/21755 */display: inline-block !important;position: relative;}#sk-container-id-1 div.sk-text-repr-fallback {display: none;}</style><div id=\"sk-container-id-1\" class=\"sk-top-container\"><div class=\"sk-text-repr-fallback\"><pre>XGBClassifier(base_score=None, booster=None, callbacks=None,\n",
       "              colsample_bylevel=None, colsample_bynode=None,\n",
       "              colsample_bytree=None, device=None, early_stopping_rounds=None,\n",
       "              enable_categorical=False, eval_metric=&#x27;mlogloss&#x27;,\n",
       "              feature_types=None, gamma=None, grow_policy=None,\n",
       "              importance_type=None, interaction_constraints=None,\n",
       "              learning_rate=None, max_bin=None, max_cat_threshold=None,\n",
       "              max_cat_to_onehot=None, max_delta_step=None, max_depth=None,\n",
       "              max_leaves=None, min_child_weight=None, missing=nan,\n",
       "              monotone_constraints=None, multi_strategy=None, n_estimators=None,\n",
       "              n_jobs=None, num_parallel_tree=None, objective=&#x27;multi:softmax&#x27;, ...)</pre><b>In a Jupyter environment, please rerun this cell to show the HTML representation or trust the notebook. <br />On GitHub, the HTML representation is unable to render, please try loading this page with nbviewer.org.</b></div><div class=\"sk-container\" hidden><div class=\"sk-item\"><div class=\"sk-estimator sk-toggleable\"><input class=\"sk-toggleable__control sk-hidden--visually\" id=\"sk-estimator-id-1\" type=\"checkbox\" checked><label for=\"sk-estimator-id-1\" class=\"sk-toggleable__label sk-toggleable__label-arrow\">XGBClassifier</label><div class=\"sk-toggleable__content\"><pre>XGBClassifier(base_score=None, booster=None, callbacks=None,\n",
       "              colsample_bylevel=None, colsample_bynode=None,\n",
       "              colsample_bytree=None, device=None, early_stopping_rounds=None,\n",
       "              enable_categorical=False, eval_metric=&#x27;mlogloss&#x27;,\n",
       "              feature_types=None, gamma=None, grow_policy=None,\n",
       "              importance_type=None, interaction_constraints=None,\n",
       "              learning_rate=None, max_bin=None, max_cat_threshold=None,\n",
       "              max_cat_to_onehot=None, max_delta_step=None, max_depth=None,\n",
       "              max_leaves=None, min_child_weight=None, missing=nan,\n",
       "              monotone_constraints=None, multi_strategy=None, n_estimators=None,\n",
       "              n_jobs=None, num_parallel_tree=None, objective=&#x27;multi:softmax&#x27;, ...)</pre></div></div></div></div></div>"
      ],
      "text/plain": [
       "XGBClassifier(base_score=None, booster=None, callbacks=None,\n",
       "              colsample_bylevel=None, colsample_bynode=None,\n",
       "              colsample_bytree=None, device=None, early_stopping_rounds=None,\n",
       "              enable_categorical=False, eval_metric='mlogloss',\n",
       "              feature_types=None, gamma=None, grow_policy=None,\n",
       "              importance_type=None, interaction_constraints=None,\n",
       "              learning_rate=None, max_bin=None, max_cat_threshold=None,\n",
       "              max_cat_to_onehot=None, max_delta_step=None, max_depth=None,\n",
       "              max_leaves=None, min_child_weight=None, missing=nan,\n",
       "              monotone_constraints=None, multi_strategy=None, n_estimators=None,\n",
       "              n_jobs=None, num_parallel_tree=None, objective='multi:softmax', ...)"
      ]
     },
     "execution_count": 11,
     "metadata": {},
     "output_type": "execute_result"
    }
   ],
   "source": [
    "model = xgb.XGBClassifier(\n",
    "    objective='multi:softmax',\n",
    "    eval_metric='mlogloss'\n",
    ")\n",
    "model.fit(x_train, y_train)\n"
   ]
  },
  {
   "cell_type": "code",
   "execution_count": 12,
   "id": "5d750e19",
   "metadata": {
    "execution": {
     "iopub.execute_input": "2024-03-01T13:07:50.730938Z",
     "iopub.status.busy": "2024-03-01T13:07:50.729348Z",
     "iopub.status.idle": "2024-03-01T13:07:50.753028Z",
     "shell.execute_reply": "2024-03-01T13:07:50.751370Z"
    },
    "papermill": {
     "duration": 0.033559,
     "end_time": "2024-03-01T13:07:50.755948",
     "exception": false,
     "start_time": "2024-03-01T13:07:50.722389",
     "status": "completed"
    },
    "tags": []
   },
   "outputs": [
    {
     "name": "stdout",
     "output_type": "stream",
     "text": [
      "Accuracy: 0.8787878787878788\n",
      "              precision    recall  f1-score   support\n",
      "\n",
      "           0       1.00      1.00      1.00         2\n",
      "           1       0.75      1.00      0.86         6\n",
      "           2       1.00      0.85      0.92        13\n",
      "           3       0.75      0.75      0.75         8\n",
      "           6       1.00      1.00      1.00         4\n",
      "\n",
      "    accuracy                           0.88        33\n",
      "   macro avg       0.90      0.92      0.90        33\n",
      "weighted avg       0.89      0.88      0.88        33\n",
      "\n"
     ]
    }
   ],
   "source": [
    "y_pred = model.predict(x_test)\n",
    "\n",
    "accuracy = accuracy_score(y_test, y_pred)\n",
    "print(\"Accuracy:\", accuracy)\n",
    "\n",
    "print(classification_report(y_test, y_pred))"
   ]
  }
 ],
 "metadata": {
  "kaggle": {
   "accelerator": "none",
   "dataSources": [
    {
     "datasetId": 4339065,
     "sourceId": 7454556,
     "sourceType": "datasetVersion"
    }
   ],
   "dockerImageVersionId": 30664,
   "isGpuEnabled": false,
   "isInternetEnabled": false,
   "language": "python",
   "sourceType": "notebook"
  },
  "kernelspec": {
   "display_name": "Python 3",
   "language": "python",
   "name": "python3"
  },
  "language_info": {
   "codemirror_mode": {
    "name": "ipython",
    "version": 3
   },
   "file_extension": ".py",
   "mimetype": "text/x-python",
   "name": "python",
   "nbconvert_exporter": "python",
   "pygments_lexer": "ipython3",
   "version": "3.10.13"
  },
  "papermill": {
   "default_parameters": {},
   "duration": 6.824057,
   "end_time": "2024-03-01T13:07:51.586444",
   "environment_variables": {},
   "exception": null,
   "input_path": "__notebook__.ipynb",
   "output_path": "__notebook__.ipynb",
   "parameters": {},
   "start_time": "2024-03-01T13:07:44.762387",
   "version": "2.5.0"
  }
 },
 "nbformat": 4,
 "nbformat_minor": 5
}
